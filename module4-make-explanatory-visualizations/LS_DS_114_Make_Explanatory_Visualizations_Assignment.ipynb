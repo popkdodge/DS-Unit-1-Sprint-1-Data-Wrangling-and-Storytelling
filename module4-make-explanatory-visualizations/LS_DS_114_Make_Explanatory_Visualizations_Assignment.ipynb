{
  "nbformat": 4,
  "nbformat_minor": 0,
  "metadata": {
    "colab": {
      "name": "LS_DS_114_Make_Explanatory_Visualizations_Assignment.ipynb",
      "provenance": [],
      "collapsed_sections": [],
      "include_colab_link": true
    },
    "language_info": {
      "codemirror_mode": {
        "name": "ipython",
        "version": 3
      },
      "file_extension": ".py",
      "mimetype": "text/x-python",
      "name": "python",
      "nbconvert_exporter": "python",
      "pygments_lexer": "ipython3",
      "version": "3.7.1"
    },
    "kernelspec": {
      "display_name": "Python 3",
      "language": "python",
      "name": "python3"
    }
  },
  "cells": [
    {
      "cell_type": "markdown",
      "metadata": {
        "id": "view-in-github",
        "colab_type": "text"
      },
      "source": [
        "<a href=\"https://colab.research.google.com/github/popkdodge/DS-Unit-1-Sprint-1-Data-Wrangling-and-Storytelling/blob/master/module4-make-explanatory-visualizations/LS_DS_114_Make_Explanatory_Visualizations_Assignment.ipynb\" target=\"_parent\"><img src=\"https://colab.research.google.com/assets/colab-badge.svg\" alt=\"Open In Colab\"/></a>"
      ]
    },
    {
      "cell_type": "markdown",
      "metadata": {
        "colab_type": "text",
        "id": "NMEswXWh9mqw"
      },
      "source": [
        "Lambda School Data Science\n",
        "\n",
        "*Unit 1, Sprint 1, Module 4*\n",
        "\n",
        "---\n",
        "\n",
        "# ASSIGNMENT\n",
        "\n",
        "### 1) Replicate the lesson code. I recommend that you [do not copy-paste](https://docs.google.com/document/d/1ubOw9B3Hfip27hF2ZFnW3a3z9xAgrUDRReOEo-FHCVs/edit).\n",
        "\n",
        "Get caught up to where we got our example in class and then try and take things further. How close to \"pixel perfect\" can you make the lecture graph?\n",
        "\n",
        "Once you have something that you're proud of, share your graph in the cohort channel and move on to the second exercise.\n",
        "\n",
        "### 2) Reproduce another example from [FiveThityEight's shared data repository](https://data.fivethirtyeight.com/).\n",
        "\n",
        "**WARNING**: There are a lot of very custom graphs and tables at the above link. I **highly** recommend not trying to reproduce any that look like a table of values or something really different from the graph types that we are already familiar with. Search through the posts until you find a graph type that you are more or less familiar with: histogram, bar chart, stacked bar chart, line chart, [seaborn relplot](https://seaborn.pydata.org/generated/seaborn.relplot.html), etc. Recreating some of the graphics that 538 uses would be a lot easier in Adobe photoshop/illustrator than with matplotlib. \n",
        "\n",
        "- If you put in some time to find a graph that looks \"easy\" to replicate you'll probably find that it's not as easy as you thought. \n",
        "\n",
        "- If you start with a graph that looks hard to replicate you'll probably run up against a brick wall and be disappointed with your afternoon.\n",
        "\n",
        "\n",
        "\n",
        "\n",
        "\n",
        "\n",
        "\n",
        "\n",
        "\n",
        "\n"
      ]
    },
    {
      "cell_type": "code",
      "metadata": {
        "id": "7SY1ZHawyZvz",
        "colab_type": "code",
        "colab": {
          "base_uri": "https://localhost:8080/",
          "height": 355
        },
        "outputId": "89299a20-dc36-4000-9432-c8c120f472fe"
      },
      "source": [
        "# Your Work Here\n",
        "import matplotlib.pyplot as plt\n",
        "import numpy as np\n",
        "import pandas as pd\n",
        "from IPython.display import display, Image\n",
        "\n",
        "url = 'https://fivethirtyeight.com/wp-content/uploads/2017/09/mehtahickey-inconvenient-0830-1.png'\n",
        "example = Image(url=url, width=400)\n",
        "\n",
        "display(example)"
      ],
      "execution_count": 7,
      "outputs": [
        {
          "output_type": "display_data",
          "data": {
            "text/html": [
              "<img src=\"https://fivethirtyeight.com/wp-content/uploads/2017/09/mehtahickey-inconvenient-0830-1.png\" width=\"400\"/>"
            ],
            "text/plain": [
              "<IPython.core.display.Image object>"
            ]
          },
          "metadata": {
            "tags": []
          }
        }
      ]
    },
    {
      "cell_type": "code",
      "metadata": {
        "id": "47tGBY3_iBwf",
        "colab_type": "code",
        "colab": {}
      },
      "source": [
        "\n",
        "fake = pd.Series([38, 3, 2, 1, 2, 4, 6, 5, 5, 33], \n",
        "                 index=range(1,11))\n"
      ],
      "execution_count": 0,
      "outputs": []
    },
    {
      "cell_type": "code",
      "metadata": {
        "id": "Ohl7Yg96jl33",
        "colab_type": "code",
        "colab": {
          "base_uri": "https://localhost:8080/",
          "height": 366
        },
        "outputId": "34611c0a-6649-461f-efe9-575bdf3467dc"
      },
      "source": [
        "plt.style.use('fivethirtyeight')\n",
        "\n",
        "fig, ax = plt.subplots()\n",
        "\n",
        "# Turn on the Grid: Change the stylesheet that we're working with\n",
        "\n",
        "# White figure background\n",
        "fig.patch.set_facecolor('white')\n",
        "\n",
        "# White axes background\n",
        "ax.set_facecolor('white')\n",
        "\n",
        "# put bars on the chart\n",
        "ax.bar(x=range(1,11,1), height=fake, color='#ED713A', width=.9)\n",
        "\n",
        "# Add Title\n",
        "ax.set_title(\"'An Inconvenient Sequel: Truth To Power' is divisive\", fontsize=12, fontweight='bold', x=.32, y=1.1)\n",
        "\n",
        "# Add subtitle\n",
        "ax.text(s='IMDb ratings for the film as of Aug.29', y=42, x=-1.45, fontsize=11)\n",
        "\n",
        "# set x and y axis labels\n",
        "ax.set_xlabel('Rating', fontsize=10, fontweight='bold')\n",
        "ax.set_ylabel('Percent of total votes', fontsize=10, fontweight='bold')\n",
        "\n",
        "# x axis tick marks and tick lables\n",
        "ax.set_xticks(range(1,11,1))\n",
        "ax.set_xticklabels(range(1,11,1),color='#D3D3D3', fontsize=10)\n",
        "\n",
        "# y axis tick marks and tick lables\n",
        "ax.set_yticks(range(0,41,10))\n",
        "ax.set_yticklabels(['0', '10', '20', '30', '40%'],color='#D3D3D3', fontsize=10)\n",
        "\n",
        "# Turn off some of the spines\n",
        "ax.spines['left'].set_visible(False)\n",
        "ax.spines['right'].set_visible(False)\n",
        "ax.spines['top'].set_visible(False)\n",
        "#lines below the text\n",
        "ax.text(s= '__________________________________________________________________',\n",
        "        y=-8, x=-1.75, color='#D3D3D3')\n",
        "#text below lines 'fivethirtyeight\n",
        "ax.text(s=\"FiveThirtyEight\",fontsize=9,y=-10.5, x=-1.75, color='#D3D3D3')\n",
        "#text below lines \"Source:IMDB\"\n",
        "ax.text(s=\"SOURCES:IMDB\",fontsize=9,y=-10.5, x=9.5, color='#D3D3D3')\n",
        "plt.show()"
      ],
      "execution_count": 134,
      "outputs": [
        {
          "output_type": "display_data",
          "data": {
            "image/png": "[encoded data removed]",
            "text/plain": [
              "<Figure size 432x288 with 1 Axes>"
            ]
          },
          "metadata": {
            "tags": []
          }
        }
      ]
    },
    {
      "cell_type": "code",
      "metadata": {
        "id": "ImZLg-7XwLET",
        "colab_type": "code",
        "colab": {
          "base_uri": "https://localhost:8080/",
          "height": 355
        },
        "outputId": "b9cb28ad-10ec-4573-a26a-7220b3d881fa"
      },
      "source": [
        "display(example)"
      ],
      "execution_count": 138,
      "outputs": [
        {
          "output_type": "display_data",
          "data": {
            "text/html": [
              "<img src=\"https://fivethirtyeight.com/wp-content/uploads/2017/09/mehtahickey-inconvenient-0830-1.png\" width=\"400\"/>"
            ],
            "text/plain": [
              "<IPython.core.display.Image object>"
            ]
          },
          "metadata": {
            "tags": []
          }
        }
      ]
    },
    {
      "cell_type": "code",
      "metadata": {
        "id": "WprthbVoxOaO",
        "colab_type": "code",
        "colab": {
          "base_uri": "https://localhost:8080/",
          "height": 396
        },
        "outputId": "c1c7db04-3b9d-483c-e29d-ae3422a987ab"
      },
      "source": [
        "url2 = 'https://fivethirtyeight.com/wp-content/uploads/2019/09/paine-charles-leclerc-0912-1.png?w=575'\n",
        "example2 = Image(url=url2, width=400)\n",
        "\n",
        "display(example2)"
      ],
      "execution_count": 139,
      "outputs": [
        {
          "output_type": "display_data",
          "data": {
            "text/html": [
              "<img src=\"https://fivethirtyeight.com/wp-content/uploads/2019/09/paine-charles-leclerc-0912-1.png?w=575\" width=\"400\"/>"
            ],
            "text/plain": [
              "<IPython.core.display.Image object>"
            ]
          },
          "metadata": {
            "tags": []
          }
        }
      ]
    },
    {
      "cell_type": "code",
      "metadata": {
        "id": "EFtWzrZM08Bh",
        "colab_type": "code",
        "colab": {}
      },
      "source": [
        "vettle = pd.Series([1575, 1585,1573,1600,1575,1570,1570,1550,1560,1550,1575,1600,1560,1550,1525], \n",
        "                 index=range(1,16))\n",
        "leclerc_sauber = pd.Series([1425,1425,1450,1460,1475,1450,1475,1475,1480],\n",
        "                    index=range(1,10))\n",
        "leclerc_ferrari = pd.Series([1480, 1500,1475,1455,1490,1500, 1525], index=range(9,16))\n",
        "\n"
      ],
      "execution_count": 0,
      "outputs": []
    },
    {
      "cell_type": "code",
      "metadata": {
        "id": "7MIu5mCG6dVq",
        "colab_type": "code",
        "colab": {
          "base_uri": "https://localhost:8080/",
          "height": 406
        },
        "outputId": "c61d9f22-6710-4c7a-a36f-765d49801984"
      },
      "source": [
        "plt.style.use('fivethirtyeight')\n",
        "\n",
        "fig, ax = plt.subplots()\n",
        "ax.plot(vettle, color='#EA5E89')\n",
        "ax.plot(leclerc, color='#6C6C6C')\n",
        "ax.plot(leclerc_ferrari, color='#4A4AF0')\n",
        "\n",
        "# Add Title\n",
        "ax.set_title(\"Leclerc has chasted Vettel down in a hurry\", fontsize=12, fontweight='bold', x=.25, y=1.15)\n",
        "\n",
        "\n",
        "# Add subtitle\n",
        "ax.text(s='Head-to-head Elo rating from Sebastian Vettel and Charles Leclerc', y=1630, x=-1.75, fontsize=11)\n",
        "ax.text(s='during the 2018 and 2019 Formula One Seasons', y=1620, x=-1.75, fontsize=11)\n",
        "\n",
        "\n",
        "ax.spines['left'].set_visible(True)\n",
        "ax.spines['right'].set_visible(True)\n",
        "ax.spines['top'].set_visible(True)\n",
        "\n",
        "# set x and y axis labels\n",
        "ax.set_xlabel('Event number', fontsize=10, fontweight='bold')\n",
        "ax.set_ylabel('Elo ratings', fontsize=10, fontweight='bold')\n",
        "\n",
        "# x axis tick marks and tick lables\n",
        "ax.set_xticklabels(['0', '10', '20', '30', '40','50','60','70'], fontsize=10, color='#D3D3D3')\n",
        "\n",
        "#y axist tick marks and tick lables\n",
        "ax.set_yticks(range(1400,1625,50))\n",
        "ax.set_yticklabels(['1400', '1450', '1500', '1550', '1600'],color='#D3D3D3', fontsize=10)\n",
        "\n",
        "#Vettle legend text\n",
        "ax.text(s=\"Vettel\",fontsize=11,y=1590, x=8, color='#EA5E89', fontweight='bold')\n",
        "ax.text(s=\"Ferrari\",fontsize=10,y=1580, x=8, color='#EA5E89')\n",
        "\n",
        "#LeClerc legend text\n",
        "ax.text(s=\"LeClerc\",fontsize=11,y=1440, x=5, color='#6C6C6C', fontweight='bold')\n",
        "ax.text(s=\"Sauber\",fontsize=11,y=1430, x=5, color='#6C6C6C')\n",
        "\n",
        "#LeClerc Ferrari legend text\n",
        "ax.text(s=\"LeClerc\",fontsize=11,y=1510, x=11, color='#4A4AF0', fontweight='bold')\n",
        "ax.text(s=\"Ferrari\",fontsize=11,y=1500, x=11, color='#4A4AF0')\n",
        "#Bottom Text and Lines\n",
        "\n",
        "ax.text(s= '____________________________________________________________',\n",
        "        y=1340, x=-1.75, color='#D3D3D3')\n",
        "\n",
        "ax.text(s=\"Events include qualifiers and races.\",fontsize=9,y=1350, x=-1.75, color='#D3D3D3')\n",
        "#text below lines \"Source:IMDB\"\n",
        "\n",
        "ax.text(s=\"SOURCES:RACING-REFERENCE.INFO\",fontsize=9,y=1320, x=9, color='#D3D3D3')\n",
        "\n",
        "ax.text(s=\"FiveThirtyEight\",fontsize=9,y=1320, x=-1.75, color='#D3D3D3')\n",
        "\n",
        "plt.show()"
      ],
      "execution_count": 321,
      "outputs": [
        {
          "output_type": "display_data",
          "data": {
            "image/png": "[encoded data removed]",
            "text/plain": [
              "<Figure size 432x288 with 1 Axes>"
            ]
          },
          "metadata": {
            "tags": []
          }
        }
      ]
    },
    {
      "cell_type": "code",
      "metadata": {
        "id": "Q8P-3uoBHyUB",
        "colab_type": "code",
        "colab": {
          "base_uri": "https://localhost:8080/",
          "height": 396
        },
        "outputId": "4b09f818-fc6d-4fe3-c3c7-2cb673561940"
      },
      "source": [
        "display(example2)"
      ],
      "execution_count": 322,
      "outputs": [
        {
          "output_type": "display_data",
          "data": {
            "text/html": [
              "<img src=\"https://fivethirtyeight.com/wp-content/uploads/2019/09/paine-charles-leclerc-0912-1.png?w=575\" width=\"400\"/>"
            ],
            "text/plain": [
              "<IPython.core.display.Image object>"
            ]
          },
          "metadata": {
            "tags": []
          }
        }
      ]
    },
    {
      "cell_type": "markdown",
      "metadata": {
        "id": "CWCbXEAD4Chm",
        "colab_type": "text"
      },
      "source": [
        ""
      ]
    },
    {
      "cell_type": "markdown",
      "metadata": {
        "id": "0wSrBzmJyWaV",
        "colab_type": "text"
      },
      "source": [
        "# STRETCH OPTIONS\n",
        "\n",
        "### 1) Reproduce one of the following using the matplotlib or seaborn libraries:\n",
        "\n",
        "- [thanksgiving-2015](https://fivethirtyeight.com/features/heres-what-your-part-of-america-eats-on-thanksgiving/) \n",
        "- [candy-power-ranking](https://fivethirtyeight.com/features/the-ultimate-halloween-candy-power-ranking/) \n",
        "- or another example of your choice!\n",
        "\n",
        "### 2) Make more charts!\n",
        "\n",
        "Choose a chart you want to make, from [Visual Vocabulary - Vega Edition](http://ft.com/vocabulary).\n",
        "\n",
        "Find the chart in an example gallery of a Python data visualization library:\n",
        "- [Seaborn](http://seaborn.pydata.org/examples/index.html)\n",
        "- [Altair](https://altair-viz.github.io/gallery/index.html)\n",
        "- [Matplotlib](https://matplotlib.org/gallery.html)\n",
        "- [Pandas](https://pandas.pydata.org/pandas-docs/stable/visualization.html)\n",
        "\n",
        "Reproduce the chart. [Optionally, try the \"Ben Franklin Method.\"](https://docs.google.com/document/d/1ubOw9B3Hfip27hF2ZFnW3a3z9xAgrUDRReOEo-FHCVs/edit) If you want, experiment and make changes.\n",
        "\n",
        "Take notes. Consider sharing your work with your cohort!"
      ]
    },
    {
      "cell_type": "code",
      "metadata": {
        "id": "dRJkKftiy5BJ",
        "colab_type": "code",
        "colab": {}
      },
      "source": [
        "# More Work Here"
      ],
      "execution_count": 0,
      "outputs": []
    }
  ]
}